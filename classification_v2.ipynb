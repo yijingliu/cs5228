{
 "cells": [
  {
   "cell_type": "code",
   "execution_count": 115,
   "metadata": {},
   "outputs": [],
   "source": [
    "import numpy as np\n",
    "import pandas as pd\n",
    "\n",
    "from sklearn.metrics import fbeta_score\n",
    "from sklearn.model_selection import train_test_split\n",
    "from sklearn.feature_extraction.text import TfidfVectorizer, TfidfTransformer\n",
    "from sklearn.neighbors import KNeighborsClassifier\n",
    "\n",
    "from sklearn.naive_bayes import GaussianNB\n",
    "from sklearn.tree import DecisionTreeClassifier\n",
    "from sklearn.svm import SVC\n",
    "\n",
    "import math\n",
    "import os\n",
    "import re\n",
    "from scipy.sparse import hstack, csr_matrix\n",
    "from collections import Counter"
   ]
  },
  {
   "cell_type": "code",
   "execution_count": 116,
   "metadata": {},
   "outputs": [],
   "source": [
    "def read(X, dir):\n",
    "    for i in range(X.shape[0]):\n",
    "        x = X[i]\n",
    "        x[0] = str(x[0])\n",
    "        with open(\"page\" + os.sep + dir + \"_\" + str(i) + \".txt\", \"r\") as f:\n",
    "            text = f.read()\n",
    "            if \"404\" in text or \"404\" in text: \n",
    "                text = \"\" \n",
    "        text = ''.join([i for i in text if not i.isdigit()])\n",
    "        text = re.sub(r'\\b\\w{1,3}\\b', '', text)\n",
    "        x[2] = text\n",
    "        x[5] = str(x[5]) \n",
    "    return X"
   ]
  },
  {
   "cell_type": "code",
   "execution_count": 117,
   "metadata": {},
   "outputs": [],
   "source": [
    "def write(method, y_pred):\n",
    "    with open(\"sample_submission_\" + method + \".csv\", \"w\") as f:\n",
    "        f.write(\"article_id,category\\n\")\n",
    "        for i, y in enumerate(y_pred):\n",
    "            f.write(str(i + 1) + \",\" + str(y))\n",
    "            f.write(\"\\n\")"
   ]
  },
  {
   "cell_type": "code",
   "execution_count": 118,
   "metadata": {},
   "outputs": [],
   "source": [
    "def counter_cosine_similarity(y1, y2):\n",
    "    y1 = Counter(y1)\n",
    "    y2 = Counter(y2)\n",
    "    y = set(y1).union(y2)\n",
    "    dotprod = sum(y1.get(k, 0) * y2.get(k, 0) for k in y)\n",
    "    magA = math.sqrt(sum(y1.get(k, 0)**2 for k in y))\n",
    "    magB = math.sqrt(sum(y2.get(k, 0)**2 for k in y))\n",
    "    return dotprod / (magA * magB)"
   ]
  },
  {
   "cell_type": "code",
   "execution_count": 119,
   "metadata": {},
   "outputs": [],
   "source": [
    "trainData=pd.read_csv(\"data\" + os.sep + \"train.csv\", na_filter=False)\n",
    "trainHeader = trainData.columns.values\n",
    "trainData = trainData.values\n",
    "\n",
    "X_train = trainData[:, range(6)]\n",
    "y_train = trainData[:, 6]\n",
    "y_train = y_train.astype(\"int\")\n",
    "\n",
    "X_train = read(X_train, \"train\")"
   ]
  },
  {
   "cell_type": "code",
   "execution_count": 120,
   "metadata": {},
   "outputs": [],
   "source": [
    "trainData_2=pd.read_csv(\"data\" + os.sep + \"train_v2.csv\", na_filter=False)\n",
    "trainHeader_2 = trainData_2.columns.values\n",
    "trainData_2 = trainData_2.values\n",
    "\n",
    "X_train_2 = trainData_2[:, range(6)]\n",
    "y_train_2 = trainData_2[:, 6]\n",
    "y_train_2 = y_train_2.astype(\"int\")\n",
    "\n",
    "X_train_2 = read(X_train_2, \"train_2\")"
   ]
  },
  {
   "cell_type": "code",
   "execution_count": 121,
   "metadata": {},
   "outputs": [],
   "source": [
    "testData_2=pd.read_csv(\"data\" + os.sep + \"test_v2.csv\", na_filter=False)\n",
    "testHeader_2 = testData_2.columns.values\n",
    "testData_2 = testData_2.values\n",
    "\n",
    "X_test_2 = testData_2[:, range(6)]\n",
    "X_test_2 = read(X_test_2, \"test_2\")"
   ]
  },
  {
   "cell_type": "code",
   "execution_count": 122,
   "metadata": {},
   "outputs": [
    {
     "name": "stdout",
     "output_type": "stream",
     "text": [
      "(6027, 46201)\n",
      "(3826, 46201)\n"
     ]
    }
   ],
   "source": [
    "X_train_2_tfidf = dict()\n",
    "X_test_tfidf = dict()\n",
    "for i in range(6):\n",
    "    vectorizer = TfidfVectorizer(analyzer='word', stop_words=\"english\", norm=\"l1\")\n",
    "    X_train_2_tfidf[i] = vectorizer.fit_transform(X_train_2[:, i])\n",
    "    X_test_tfidf[i] = vectorizer.transform(X_test_2[:, i])\n",
    "\n",
    "X_train_2_tfidf = hstack([X_train_2_tfidf[i] for i in range(1,6)])\n",
    "X_test_tfidf = hstack([X_test_tfidf[i] for i in range(1,6)])\n",
    "\n",
    "print(X_train_2_tfidf.shape)\n",
    "print(X_test_tfidf.shape)"
   ]
  },
  {
   "cell_type": "code",
   "execution_count": 123,
   "metadata": {},
   "outputs": [
    {
     "name": "stdout",
     "output_type": "stream",
     "text": [
      "F2 Score : 0.7729908041766358\n",
      "Score : 0.8395553343288535\n",
      "Cosine Similarity : 0.9682862902142626\n"
     ]
    }
   ],
   "source": [
    "#Decision Tree\n",
    "classifier = DecisionTreeClassifier(max_depth=40)\n",
    "\n",
    "classifier.fit(X_train_2_tfidf, y_train_2)\n",
    "print(\"F2 Score : \" + str(fbeta_score(y_train_2, classifier.predict(X_train_2_tfidf), average='macro', beta=2)))\n",
    "print(\"Score : \" + str(classifier.score(X_train_2_tfidf, y_train_2)))\n",
    "print(\"Cosine Similarity : \" + str(counter_cosine_similarity(list(y_train_2), list(classifier.predict(X_train_2_tfidf)))))\n",
    "\n",
    "write(\"decision_tree\", classifier.predict(X_test_tfidf))"
   ]
  },
  {
   "cell_type": "code",
   "execution_count": 133,
   "metadata": {},
   "outputs": [
    {
     "name": "stdout",
     "output_type": "stream",
     "text": [
      "F2 Score : 0.768590466262044\n",
      "Score : 0.8367346938775511\n",
      "Cosine Similarity : 0.9901975223156287\n"
     ]
    }
   ],
   "source": [
    "from sklearn import linear_model\n",
    "classifier = linear_model.SGDClassifier(max_iter=100)\n",
    "\n",
    "classifier.fit(X_train_2_tfidf, y_train_2)\n",
    "print(\"F2 Score : \" + str(fbeta_score(y_train_2, classifier.predict(X_train_2_tfidf), average='macro', beta=2)))\n",
    "print(\"Score : \" + str(classifier.score(X_train_2_tfidf, y_train_2)))\n",
    "print(\"Cosine Similarity : \" + str(counter_cosine_similarity(list(y_train_2), list(classifier.predict(X_train_2_tfidf)))))\n",
    "\n",
    "write(\"sgd_no_outlier\", classifier.predict(X_test_tfidf))\n",
    "\n"
   ]
  },
  {
   "cell_type": "code",
   "execution_count": 128,
   "metadata": {},
   "outputs": [],
   "source": [
    "#Decision Tree Ensemble\n",
    "for i in range(40, 60):\n",
    "    for j in range(5):\n",
    "        classifier = DecisionTreeClassifier(max_depth=i)\n",
    "        classifier.fit(X_train_2_tfidf, y_train_2)\n",
    "        if (i == 40 and j == 0):\n",
    "            X_test_pred = classifier.predict(X_test_tfidf)\n",
    "        else:\n",
    "            X_test_pred = np.vstack([X_test_pred, classifier.predict(X_test_tfidf)])\n",
    "\n",
    "X_test_pred_decision_tree_en = np.array([])\n",
    "for i in range(X_test_pred.shape[1]):\n",
    "    pred = X_test_pred[:,i]\n",
    "    counts = np.bincount(pred)\n",
    "    X_test_pred_decision_tree_en = np.append(X_test_pred_decision_tree_en, np.argmax(counts))\n",
    "X_test_pred_decision_tree_en = X_test_pred_decision_tree_en.astype(int)\n",
    "\n",
    "write(\"decision_tree_en\", X_test_pred_decision_tree_en)"
   ]
  },
  {
   "cell_type": "code",
   "execution_count": null,
   "metadata": {},
   "outputs": [],
   "source": []
  }
 ],
 "metadata": {
  "kernelspec": {
   "display_name": "Python 3",
   "language": "python",
   "name": "python3"
  },
  "language_info": {
   "codemirror_mode": {
    "name": "ipython",
    "version": 3
   },
   "file_extension": ".py",
   "mimetype": "text/x-python",
   "name": "python",
   "nbconvert_exporter": "python",
   "pygments_lexer": "ipython3",
   "version": "3.6.3"
  }
 },
 "nbformat": 4,
 "nbformat_minor": 2
}
