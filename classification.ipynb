{
 "cells": [
  {
   "cell_type": "code",
   "execution_count": null,
   "metadata": {},
   "outputs": [],
   "source": [
    "import numpy as np\n",
    "import pandas as pd\n",
    "\n",
    "from sklearn.metrics import fbeta_score\n",
    "from sklearn.model_selection import train_test_split\n",
    "from sklearn.feature_extraction.text import TfidfVectorizer, TfidfTransformer\n",
    "from sklearn.neighbors import KNeighborsClassifier\n",
    "\n",
    "from sklearn.naive_bayes import GaussianNB\n",
    "from sklearn.tree import DecisionTreeClassifier\n",
    "from sklearn.svm import SVC\n",
    "\n",
    "import math\n",
    "import os\n",
    "from scipy.sparse import hstack, csr_matrix\n",
    "from collections import Counter"
   ]
  },
  {
   "cell_type": "code",
   "execution_count": null,
   "metadata": {},
   "outputs": [],
   "source": [
    "def read(X, dir):\n",
    "    for i in range(X.shape[0]):\n",
    "        x = X[i]\n",
    "        x[0] = str(x[0])\n",
    "        with open(\"page\" + os.sep + dir + \"_\" + str(i) + \".txt\", \"r\") as f:\n",
    "            text = f.read()\n",
    "            if \"404\" in text or \"404\" in text: \n",
    "                text = \"\" \n",
    "        x[2] = text\n",
    "        x[5] = str(x[5])\n",
    "    return X"
   ]
  },
  {
   "cell_type": "code",
   "execution_count": null,
   "metadata": {},
   "outputs": [],
   "source": [
    "def write(method, y_pred):\n",
    "    with open(\"sample_submission_\" + method + \".csv\", \"w\") as f:\n",
    "        f.write(\"article_id,category\\n\")\n",
    "        for i, y in enumerate(y_pred):\n",
    "            f.write(str(i + 1) + \",\" + str(y))\n",
    "            f.write(\"\\n\")"
   ]
  },
  {
   "cell_type": "code",
   "execution_count": null,
   "metadata": {},
   "outputs": [],
   "source": [
    "def counter_cosine_similarity(y1, y2):\n",
    "    y1 = Counter(y1)\n",
    "    y2 = Counter(y2)\n",
    "    y = set(y1).union(y2)\n",
    "    dotprod = sum(y1.get(k, 0) * y2.get(k, 0) for k in y)\n",
    "    magA = math.sqrt(sum(y1.get(k, 0)**2 for k in y))\n",
    "    magB = math.sqrt(sum(y2.get(k, 0)**2 for k in y))\n",
    "    return dotprod / (magA * magB)"
   ]
  },
  {
   "cell_type": "code",
   "execution_count": null,
   "metadata": {},
   "outputs": [],
   "source": [
    "trainData=pd.read_csv(\"data\" + os.sep + \"train.csv\", na_filter=False)\n",
    "trainHeader = trainData.columns.values\n",
    "trainData = trainData.values\n",
    "\n",
    "X_train = trainData[:, range(6)]\n",
    "y_train = trainData[:, 6]\n",
    "y_train = y_train.astype(\"int\")\n",
    "\n",
    "X_train = read(X_train, \"train\")"
   ]
  },
  {
   "cell_type": "code",
   "execution_count": null,
   "metadata": {},
   "outputs": [],
   "source": [
    "trainData_2=pd.read_csv(\"data\" + os.sep + \"train_v2.csv\", na_filter=False)\n",
    "trainHeader_2 = trainData_2.columns.values\n",
    "trainData_2 = trainData_2.values\n",
    "\n",
    "X_train_2 = trainData_2[:, range(6)]\n",
    "y_train_2 = trainData_2[:, 6]\n",
    "y_train_2 = y_train_2.astype(\"int\")\n",
    "\n",
    "X_train_2 = read(X_train_2, \"train_2\")"
   ]
  },
  {
   "cell_type": "code",
   "execution_count": null,
   "metadata": {},
   "outputs": [],
   "source": [
    "testData_2=pd.read_csv(\"data\" + os.sep + \"test_v2.csv\", na_filter=False)\n",
    "testHeader_2 = testData_2.columns.values\n",
    "testData_2 = testData_2.values\n",
    "\n",
    "X_test_2 = testData_2[:, range(6)]\n",
    "X_test_2 = read(X_test_2, \"test_2\")"
   ]
  },
  {
   "cell_type": "code",
   "execution_count": null,
   "metadata": {},
   "outputs": [],
   "source": [
    "X_combined = np.concatenate((X_train, X_train_2, X_test_2), axis=0)\n",
    "X_train_size = X_train.shape[0] + X_train_2.shape[0]\n",
    "\n",
    "vectorizer = TfidfVectorizer(stop_words=\"english\", norm=\"l1\")\n",
    "X_combined_tfidf = [vectorizer.fit_transform(X_combined[:, i]) for i in range(6)]"
   ]
  },
  {
   "cell_type": "code",
   "execution_count": null,
   "metadata": {},
   "outputs": [],
   "source": [
    "print(X_combined.shape)\n",
    "print(X_train_size)\n",
    "\n",
    "print(X_combined_tfidf[0].shape)\n",
    "print(X_combined_tfidf[1].shape)\n",
    "print(X_combined_tfidf[2].shape)\n",
    "print(X_combined_tfidf[3].shape)\n",
    "print(X_combined_tfidf[4].shape)\n",
    "print(X_combined_tfidf[5].shape)"
   ]
  },
  {
   "cell_type": "code",
   "execution_count": null,
   "metadata": {},
   "outputs": [],
   "source": [
    "X_train_tfidf = hstack([X_combined_tfidf[1][0:X_train_size], X_combined_tfidf[2][0:X_train_size], X_combined_tfidf[3][0:X_train_size], X_combined_tfidf[4][0:X_train_size], X_combined_tfidf[5][0:X_train_size]])\n",
    "X_test_tfidf = hstack([X_combined_tfidf[1][X_train_size:], X_combined_tfidf[2][X_train_size:], X_combined_tfidf[3][X_train_size:], X_combined_tfidf[4][X_train_size:], X_combined_tfidf[5][X_train_size:]])\n",
    "\n",
    "print(X_train_tfidf.shape)\n",
    "print(X_test_tfidf.shape)"
   ]
  },
  {
   "cell_type": "code",
   "execution_count": null,
   "metadata": {},
   "outputs": [],
   "source": [
    "y_train_combined = np.concatenate((y_train, y_train_2), axis=0)\n",
    "print(y_train_combined.shape)"
   ]
  },
  {
   "cell_type": "code",
   "execution_count": null,
   "metadata": {},
   "outputs": [],
   "source": [
    "#KNN\n",
    "classifier = KNeighborsClassifier(5)\n",
    "\n",
    "classifier.fit(X_train_tfidf, y_train_combined)\n",
    "print(\"F2 Score : \" + str(fbeta_score(y_train_combined, classifier.predict(X_train_tfidf), average='macro', beta=2)))\n",
    "print(\"Score : \" + str(classifier.score(X_train_tfidf, y_train_combined)))\n",
    "print(\"Cosine Similarity : \" + str(counter_cosine_similarity(list(y_train_combined), list(classifier.predict(X_train_tfidf)))))\n",
    "\n",
    "write(\"knn\", classifier.predict(X_test_tfidf))"
   ]
  },
  {
   "cell_type": "code",
   "execution_count": null,
   "metadata": {},
   "outputs": [],
   "source": [
    "#Decision Tree\n",
    "classifier = DecisionTreeClassifier(max_depth=40)\n",
    "\n",
    "classifier.fit(X_train_tfidf, y_train_combined)\n",
    "print(\"F2 Score : \" + str(fbeta_score(y_train_combined, classifier.predict(X_train_tfidf), average='macro', beta=2)))\n",
    "print(\"Score : \" + str(classifier.score(X_train_tfidf, y_train_combined)))\n",
    "print(\"Cosine Similarity : \" + str(counter_cosine_similarity(list(y_train_combined), list(classifier.predict(X_train_tfidf)))))\n",
    "\n",
    "write(\"decision_tree\", classifier.predict(X_test_tfidf))"
   ]
  },
  {
   "cell_type": "code",
   "execution_count": null,
   "metadata": {},
   "outputs": [],
   "source": [
    "#Decision Tree Ensemble\n",
    "for i in range(40, 60):\n",
    "    for j in range(5):\n",
    "        classifier = DecisionTreeClassifier(max_depth=i)\n",
    "        classifier.fit(X_train_tfidf, y_train_combined)\n",
    "        if (i == 40 and j == 0):\n",
    "            X_test_pred = classifier.predict(X_test_tfidf)\n",
    "        else:\n",
    "            X_test_pred = np.vstack([X_test_pred, classifier.predict(X_test_tfidf)])\n",
    "\n",
    "X_test_pred_decision_tree_en = np.array([])\n",
    "for i in range(X_test_pred.shape[1]):\n",
    "    pred = X_test_pred[:,i]\n",
    "    counts = np.bincount(pred)\n",
    "    X_test_pred_decision_tree_en = np.append(X_test_pred_decision_tree_en, np.argmax(counts))\n",
    "X_test_pred_decision_tree_en = X_test_pred_decision_tree_en.astype(int)\n",
    "write(\"decision_tree_en\", X_test_pred_decision_tree_en)"
   ]
  },
  {
   "cell_type": "code",
   "execution_count": null,
   "metadata": {},
   "outputs": [],
   "source": [
    "#KNN Ensemble\n",
    "for i in range(5, 10):\n",
    "    classifier = KNeighborsClassifier(i)\n",
    "    classifier.fit(X_train_tfidf, y_train_combined)\n",
    "    if (i == 5):\n",
    "        X_test_pred = classifier.predict(X_test_tfidf)\n",
    "    else:\n",
    "        X_test_pred = np.vstack([X_test_pred, classifier.predict(X_test_tfidf)])\n",
    "\n",
    "X_test_pred_knn_en = np.array([])\n",
    "for i in range(X_test_pred.shape[1]):\n",
    "    pred = X_test_pred[:,i]\n",
    "    counts = np.bincount(pred)\n",
    "    X_test_pred_knn_en = np.append(X_test_pred_knn_en, np.argmax(counts))\n",
    "X_test_pred_knn_en = X_test_pred_knn_en.astype(int)\n",
    "write(\"knn_en\", X_test_pred_knn_en)"
   ]
  },
  {
   "cell_type": "code",
   "execution_count": null,
   "metadata": {},
   "outputs": [],
   "source": [
    "print(\"Cosine Similarity : \" + str(counter_cosine_similarity(list(X_test_pred_decision_tree_en), list(X_test_pred_knn_en))))"
   ]
  },
  {
   "cell_type": "code",
   "execution_count": null,
   "metadata": {},
   "outputs": [],
   "source": []
  },
  {
   "cell_type": "code",
   "execution_count": null,
   "metadata": {},
   "outputs": [],
   "source": []
  },
  {
   "cell_type": "code",
   "execution_count": null,
   "metadata": {},
   "outputs": [],
   "source": [
    "#detect outlier"
   ]
  },
  {
   "cell_type": "code",
   "execution_count": null,
   "metadata": {},
   "outputs": [],
   "source": [
    "from sklearn import svm\n",
    "from sklearn.covariance import EllipticEnvelope\n",
    "from sklearn.ensemble import IsolationForest\n",
    "from sklearn.neighbors import LocalOutlierFactor\n",
    "\n",
    "outliers_fraction = 0.15\n",
    "anomaly_algorithms = [\n",
    "    (\"Local Outlier Factor\", LocalOutlierFactor(n_neighbors=35, contamination=outliers_fraction)),\n",
    "    (\"Isolation Forest\", IsolationForest(contamination=outliers_fraction, random_state=42)),\n",
    "    (\"One-Class SVM\", svm.OneClassSVM(nu=outliers_fraction, kernel=\"rbf\", gamma=0.1))]\n",
    "\n",
    "outlier_pred = np.array([])\n",
    "for name, algorithm in anomaly_algorithms:\n",
    "    algorithm.fit(X_train_tfidf)\n",
    "    if name == \"Local Outlier Factor\":\n",
    "        outlier_pred = algorithm.fit_predict(X_train_tfidf)\n",
    "    else:\n",
    "        outlier_pred = np.vstack([outlier_pred, algorithm.fit(X_train_tfidf).predict(X_train_tfidf)])"
   ]
  },
  {
   "cell_type": "code",
   "execution_count": null,
   "metadata": {},
   "outputs": [],
   "source": [
    "outlier = np.sum(outlier_pred, axis=0)\n",
    "outlier = [i for i in range(outlier.shape[0]) if outlier[i] < 0]\n",
    "print(len(outlier))"
   ]
  },
  {
   "cell_type": "code",
   "execution_count": null,
   "metadata": {},
   "outputs": [],
   "source": [
    "X_train_size_no_outlier = X_train_size - len(outlier)\n",
    "X_combined_no_outlier = np.array([X_combined[i] for i in range(X_combined.shape[0]) if i not in outlier])\n",
    "\n",
    "X_combined_no_outlier_tfidf = [vectorizer.fit_transform(X_combined_no_outlier[:, i]) for i in range(6)]"
   ]
  },
  {
   "cell_type": "code",
   "execution_count": null,
   "metadata": {},
   "outputs": [],
   "source": [
    "X_train_no_outlier_tfidf = hstack([X_combined_no_outlier_tfidf[1][0:X_train_size_no_outlier], X_combined_no_outlier_tfidf[2][0:X_train_size_no_outlier], X_combined_no_outlier_tfidf[3][0:X_train_size_no_outlier], X_combined_no_outlier_tfidf[4][0:X_train_size_no_outlier], X_combined_no_outlier_tfidf[5][0:X_train_size_no_outlier]])\n",
    "X_test_no_outlier_tfidf = hstack([X_combined_no_outlier_tfidf[1][X_train_size_no_outlier:], X_combined_no_outlier_tfidf[2][X_train_size_no_outlier:], X_combined_no_outlier_tfidf[3][X_train_size_no_outlier:], X_combined_no_outlier_tfidf[4][X_train_size_no_outlier:], X_combined_no_outlier_tfidf[5][X_train_size_no_outlier:]])\n",
    "\n",
    "print(X_train_no_outlier_tfidf.shape)\n",
    "print(X_test_no_outlier_tfidf.shape)"
   ]
  },
  {
   "cell_type": "code",
   "execution_count": null,
   "metadata": {},
   "outputs": [],
   "source": [
    "y_train_combined_no_outlier = np.array([y_train_combined[i] for i in range(y_train_combined.shape[0]) if i not in outlier])\n",
    "\n",
    "print(y_train_combined_no_outlier.shape)"
   ]
  },
  {
   "cell_type": "code",
   "execution_count": null,
   "metadata": {},
   "outputs": [],
   "source": [
    "#Decision Tree Ensemble\n",
    "for i in range(40, 60):\n",
    "    for j in range(5):\n",
    "        classifier = DecisionTreeClassifier(max_depth=i)\n",
    "        classifier.fit(X_train_no_outlier_tfidf, y_train_combined_no_outlier)\n",
    "        if (i == 40 and j == 0):\n",
    "            X_test_pred = classifier.predict(X_test_no_outlier_tfidf)\n",
    "        else:\n",
    "            X_test_pred = np.vstack([X_test_pred, classifier.predict(X_test_no_outlier_tfidf)])\n",
    "\n",
    "X_test_pred_no_outlier_decision_tree_en = np.array([])\n",
    "for i in range(X_test_pred.shape[1]):\n",
    "    pred = X_test_pred[:,i]\n",
    "    counts = np.bincount(pred)\n",
    "    X_test_pred_no_outlier_decision_tree_en = np.append(X_test_pred_no_outlier_decision_tree_en, np.argmax(counts))\n",
    "X_test_pred_no_outlier_decision_tree_en = X_test_pred_no_outlier_decision_tree_en.astype(int)\n",
    "write(\"decision_tree_en_no_outlier\", X_test_pred_no_outlier_decision_tree_en)"
   ]
  },
  {
   "cell_type": "code",
   "execution_count": null,
   "metadata": {},
   "outputs": [],
   "source": [
    "print(\"Cosine Similarity : \" + str(counter_cosine_similarity(list(X_test_pred_decision_tree_en), list(X_test_pred_no_outlier_decision_tree_en))))"
   ]
  },
  {
   "cell_type": "code",
   "execution_count": null,
   "metadata": {},
   "outputs": [],
   "source": []
  },
  {
   "cell_type": "code",
   "execution_count": null,
   "metadata": {},
   "outputs": [],
   "source": []
  }
 ],
 "metadata": {
  "kernelspec": {
   "display_name": "Python 3",
   "language": "python",
   "name": "python3"
  },
  "language_info": {
   "codemirror_mode": {
    "name": "ipython",
    "version": 3
   },
   "file_extension": ".py",
   "mimetype": "text/x-python",
   "name": "python",
   "nbconvert_exporter": "python",
   "pygments_lexer": "ipython3",
   "version": "3.6.3"
  }
 },
 "nbformat": 4,
 "nbformat_minor": 2
}
